{
 "cells": [
  {
   "cell_type": "code",
   "execution_count": 3,
   "id": "34d833d9",
   "metadata": {},
   "outputs": [],
   "source": [
    "import json"
   ]
  },
  {
   "cell_type": "code",
   "execution_count": 4,
   "id": "60a55821",
   "metadata": {},
   "outputs": [],
   "source": [
    "MAX_NEG = MAX_POS = 150000"
   ]
  },
  {
   "cell_type": "code",
   "execution_count": 7,
   "id": "675d1253",
   "metadata": {},
   "outputs": [],
   "source": [
    "path = '/Users/mannpurohit/GitHub/Projects/Sentiment_Analysis_Amazon_NLP/reviews_Apps_for_Android_5.json'\n",
    "with open(path, 'r') as f:\n",
    "    line = f.readline()\n",
    "    reviews_text = []\n",
    "    reviews_score = []\n",
    "    pos_cnt, neg_cnt = 0, 0\n",
    "\n",
    "    while line:\n",
    "        data_h = json.loads(line)\n",
    "        sentiment = 'positive' if float(data_h['overall']) > 3 else 'negative'\n",
    "        \n",
    "        if sentiment == 'positive' and pos_cnt >= MAX_POS:\n",
    "            pass\n",
    "        elif sentiment == 'negative' and neg_cnt >= MAX_NEG:\n",
    "            pass\n",
    "        else:\n",
    "            review_h = data_h['reviewText'].split(' ')\n",
    "            if len(review_h) > 50:\n",
    "                review_h = review_h[:30] + review_h[-20:]\n",
    "\n",
    "            review_h = ' '.join(review_h)\n",
    "            reviews_text.append(review_h+' '+data_h['summary'])\n",
    "\n",
    "            reviews_score.append(sentiment)\n",
    "            if sentiment == 'positive':\n",
    "                pos_cnt += 1\n",
    "            else:\n",
    "                neg_cnt += 1\n",
    "\n",
    "        line = f.readline()"
   ]
  },
  {
   "cell_type": "code",
   "execution_count": 10,
   "id": "d365f69d",
   "metadata": {},
   "outputs": [],
   "source": [
    "reviews_json = []\n",
    "for i in range(len(reviews_score)):\n",
    "    reviews_json.append({\n",
    "            \"reviewText\": reviews_text[i], \"reviewScore\": reviews_score[i]\n",
    "    })"
   ]
  },
  {
   "cell_type": "code",
   "execution_count": 11,
   "id": "8f5660e5",
   "metadata": {},
   "outputs": [],
   "source": [
    "json_object = json.dumps(reviews_json, indent = 4)\n",
    "  \n",
    "# Writing to sample.json\n",
    "with open(\"/Users/mannpurohit/GitHub/Projects/Sentiment_Analysis_Amazon_NLP/reviews_data.json\", \"w\") as outfile:\n",
    "    outfile.write(json_object)"
   ]
  }
 ],
 "metadata": {
  "kernelspec": {
   "display_name": "Python 3",
   "language": "python",
   "name": "python3"
  },
  "language_info": {
   "codemirror_mode": {
    "name": "ipython",
    "version": 3
   },
   "file_extension": ".py",
   "mimetype": "text/x-python",
   "name": "python",
   "nbconvert_exporter": "python",
   "pygments_lexer": "ipython3",
   "version": "3.8.8"
  }
 },
 "nbformat": 4,
 "nbformat_minor": 5
}
