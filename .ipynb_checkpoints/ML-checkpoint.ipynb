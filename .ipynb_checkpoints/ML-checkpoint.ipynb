{
 "cells": [
  {
   "cell_type": "code",
   "execution_count": 5,
   "id": "2cda1c81",
   "metadata": {},
   "outputs": [],
   "source": [
    "import pandas as pd\n",
    "import numpy as np\n",
    "from sklearn.feature_extraction.text import TfidfVectorizer"
   ]
  },
  {
   "cell_type": "code",
   "execution_count": 38,
   "id": "eb68d1f8",
   "metadata": {},
   "outputs": [],
   "source": [
    "path = '/Users/mannpurohit/GitHub/Projects/Sentiment_Analysis_Amazon_NLP/pp_reviews/pp_reviews.json'\n",
    "df = pd.read_json(path, lines=True)"
   ]
  },
  {
   "cell_type": "code",
   "execution_count": 12,
   "id": "300a0fb6",
   "metadata": {},
   "outputs": [
    {
     "data": {
      "text/plain": [
       "positive    149998\n",
       "negative    149996\n",
       "Name: reviewScore, dtype: int64"
      ]
     },
     "execution_count": 12,
     "metadata": {},
     "output_type": "execute_result"
    }
   ],
   "source": [
    "df['reviewScore'].value_counts()"
   ]
  },
  {
   "cell_type": "markdown",
   "id": "ecb75e9f",
   "metadata": {},
   "source": [
    "## Train-Test Split"
   ]
  },
  {
   "cell_type": "code",
   "execution_count": 13,
   "id": "5be670d7",
   "metadata": {},
   "outputs": [],
   "source": [
    "from sklearn.model_selection import train_test_split"
   ]
  },
  {
   "cell_type": "code",
   "execution_count": 14,
   "id": "2fe4f234",
   "metadata": {},
   "outputs": [],
   "source": [
    "x_train, x_test, y_train, y_test = train_test_split(df['reviewText'].values, df['reviewScore'].values, \n",
    "                                                        train_size=0.8)"
   ]
  },
  {
   "cell_type": "code",
   "execution_count": null,
   "id": "f79b8a05",
   "metadata": {},
   "outputs": [],
   "source": []
  },
  {
   "cell_type": "markdown",
   "id": "a2f82741",
   "metadata": {},
   "source": [
    "## Converting Sentiment labels into numeric form"
   ]
  },
  {
   "cell_type": "code",
   "execution_count": 23,
   "id": "6062df80",
   "metadata": {},
   "outputs": [],
   "source": [
    "from sklearn.preprocessing import LabelEncoder"
   ]
  },
  {
   "cell_type": "code",
   "execution_count": 26,
   "id": "f1d0b2ea",
   "metadata": {},
   "outputs": [],
   "source": [
    "y_label_enc = LabelEncoder().fit(y_train)\n",
    "\n",
    "y_train_arr = y_label_enc.transform(y_train)\n",
    "y_test_arr = y_label_enc.transform(y_test)"
   ]
  },
  {
   "cell_type": "markdown",
   "id": "01ad152b",
   "metadata": {},
   "source": [
    "## Using TF-IDF to convert reviews into numeric form"
   ]
  },
  {
   "cell_type": "code",
   "execution_count": 16,
   "id": "54bcf78e",
   "metadata": {},
   "outputs": [
    {
     "data": {
      "text/plain": [
       "TfidfVectorizer(vocabulary=['aa', 'aac', 'aacut', 'aand', 'aarp', 'ab',\n",
       "                            'abandon', 'abbey', 'abbot', 'abbrevy', 'abby',\n",
       "                            'abc', 'abd', 'abduc', 'abid', 'abit', 'abl',\n",
       "                            'aboard', 'abomin', 'abort', 'abound', 'about',\n",
       "                            'abov', 'abreast', 'abroad', 'abrupt', 'abs',\n",
       "                            'absalut', 'absolutley', 'absolv', ...])"
      ]
     },
     "execution_count": 16,
     "metadata": {},
     "output_type": "execute_result"
    }
   ],
   "source": [
    "tfidf = TfidfVectorizer(max_features=10000, min_df=4)\n",
    "tfidf.fit(x_train)\n",
    "\n",
    "X_names = tfidf.get_feature_names()\n",
    "tfidf_vectorizer = TfidfVectorizer(vocabulary=X_names)\n",
    "tfidf_vectorizer.fit(x_train)"
   ]
  },
  {
   "cell_type": "code",
   "execution_count": 17,
   "id": "2bd2f88c",
   "metadata": {},
   "outputs": [],
   "source": [
    "x_train_arr = tfidf_vectorizer.transform(x_train).toarray()\n",
    "x_test_arr = tfidf_vectorizer.transform(x_test).toarray()"
   ]
  },
  {
   "cell_type": "markdown",
   "id": "62254aff",
   "metadata": {},
   "source": [
    "# Machine Learning Models"
   ]
  },
  {
   "cell_type": "markdown",
   "id": "a8af739e",
   "metadata": {},
   "source": [
    "## Naive Bayes"
   ]
  },
  {
   "cell_type": "code",
   "execution_count": 30,
   "id": "6cc01993",
   "metadata": {},
   "outputs": [],
   "source": [
    "scores = {'train': {}, 'test': {}}"
   ]
  },
  {
   "cell_type": "code",
   "execution_count": 31,
   "id": "86cb290b",
   "metadata": {},
   "outputs": [],
   "source": [
    "from sklearn.naive_bayes import MultinomialNB"
   ]
  },
  {
   "cell_type": "code",
   "execution_count": 32,
   "id": "d24c6c31",
   "metadata": {},
   "outputs": [],
   "source": [
    "mnb = MultinomialNB().fit(x_train_arr, y_train_arr)"
   ]
  },
  {
   "cell_type": "code",
   "execution_count": 35,
   "id": "1b7c1192",
   "metadata": {},
   "outputs": [],
   "source": [
    "scores['test']['mnb'] = mnb.score(x_test_arr, y_test_arr)\n",
    "\n",
    "scores['train']['mnb'] = mnb.score(x_train_arr, y_train_arr)"
   ]
  },
  {
   "cell_type": "code",
   "execution_count": 36,
   "id": "befd20f2",
   "metadata": {},
   "outputs": [
    {
     "data": {
      "text/plain": [
       "{'train': {'mnb': 0.8471176482843392}, 'test': {'mnb': 0.8377806296771613}}"
      ]
     },
     "execution_count": 36,
     "metadata": {},
     "output_type": "execute_result"
    }
   ],
   "source": [
    "scores"
   ]
  },
  {
   "cell_type": "code",
   "execution_count": null,
   "id": "cd740abe",
   "metadata": {},
   "outputs": [],
   "source": []
  }
 ],
 "metadata": {
  "kernelspec": {
   "display_name": "Python 3",
   "language": "python",
   "name": "python3"
  },
  "language_info": {
   "codemirror_mode": {
    "name": "ipython",
    "version": 3
   },
   "file_extension": ".py",
   "mimetype": "text/x-python",
   "name": "python",
   "nbconvert_exporter": "python",
   "pygments_lexer": "ipython3",
   "version": "3.8.8"
  }
 },
 "nbformat": 4,
 "nbformat_minor": 5
}
